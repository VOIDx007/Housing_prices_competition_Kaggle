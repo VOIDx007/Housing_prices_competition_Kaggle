{
 "cells": [
  {
   "cell_type": "code",
   "execution_count": 13,
   "metadata": {},
   "outputs": [],
   "source": [
    "import pandas as pd\n",
    "from sklearn.ensemble import RandomForestRegressor\n",
    "from sklearn.metrics import mean_absolute_error\n",
    "from sklearn.preprocessing import OneHotEncoder\n",
    "from sklearn.impute import SimpleImputer\n",
    "from sklearn.preprocessing import LabelEncoder"
   ]
  },
  {
   "cell_type": "code",
   "execution_count": 3,
   "metadata": {},
   "outputs": [],
   "source": [
    "#for our model training\n",
    "X = pd.read_csv('home-data-for-ml-course/train.csv', index_col='Id') \n",
    "X_test = pd.read_csv('home-data-for-ml-course/test.csv', index_col='Id')"
   ]
  },
  {
   "cell_type": "code",
   "execution_count": 5,
   "metadata": {},
   "outputs": [],
   "source": [
    "# Remove rows with missing target, separate target from predictors\n",
    "X.dropna(axis=0, subset=['SalePrice'], inplace=True)\n",
    "y = X.SalePrice\n",
    "X.drop(['SalePrice'], axis=1, inplace=True)"
   ]
  },
  {
   "cell_type": "code",
   "execution_count": 6,
   "metadata": {},
   "outputs": [],
   "source": [
    "#object-less and object-with split\n",
    "X_train_obless = X.select_dtypes(exclude=['object'])\n",
    "X_train_obwith = X.select_dtypes(include=['object'])\n",
    "X_test_obless = X_test.select_dtypes(exclude=['object'])\n",
    "X_test_obwith = X_test.select_dtypes(include=['object'])"
   ]
  },
  {
   "cell_type": "code",
   "execution_count": 7,
   "metadata": {},
   "outputs": [],
   "source": [
    "#removing GarageYrBlt\n",
    "cols_delete_obless = ['GarageYrBlt']\n",
    "reduced_X_train_obless = X_train_obless.drop(cols_delete_obless, axis=1)\n",
    "reduced_X_test_obless = X_test_obless.drop(cols_delete_obless, axis=1)"
   ]
  },
  {
   "cell_type": "code",
   "execution_count": 8,
   "metadata": {},
   "outputs": [],
   "source": [
    "#imputing the rest of obless null values\n",
    "from sklearn.impute import SimpleImputer\n",
    "my_imputer = SimpleImputer()\n",
    "imputed_X_train = pd.DataFrame(my_imputer.fit_transform(reduced_X_train_obless))\n",
    "imputed_X_train.columns = reduced_X_train_obless.columns #final obless dataset train\n",
    "\n",
    "imputed_X_test = pd.DataFrame(my_imputer.transform(reduced_X_test_obless))\n",
    "imputed_X_test.columns = reduced_X_test_obless.columns   #final obless dataset test"
   ]
  },
  {
   "cell_type": "code",
   "execution_count": 9,
   "metadata": {},
   "outputs": [],
   "source": [
    "#remove columns with dissimilar values in obwith\n",
    "obwith_columns = [col for col in X_train_obwith.columns]\n",
    "good_label_cols = [col for col in obwith_columns if \n",
    "                   set(X_train_obwith[col]) == set(X_test_obwith[col])]\n",
    "        \n",
    "bad_label_cols = list(set(obwith_columns)-set(good_label_cols))\n",
    "similar_X_train_obwith = X_train_obwith.drop(bad_label_cols, axis=1)\n",
    "similar_X_test_obwith = X_test_obwith.drop(bad_label_cols, axis=1)"
   ]
  },
  {
   "cell_type": "code",
   "execution_count": 10,
   "metadata": {},
   "outputs": [],
   "source": [
    "#deleting high cardinality values and non required cols\n",
    "cols_delete_obwith = ['Neighborhood']\n",
    "reduced_X_train_obwith = similar_X_train_obwith.drop(cols_delete_obwith, axis=1)\n",
    "reduced_X_test_obwith = similar_X_test_obwith.drop(cols_delete_obwith, axis=1)\n",
    "obwith_cols_encode = [cols for cols in reduced_X_train_obwith.columns]\n",
    "\n",
    "\n",
    "high_missing_cols = ['Alley','FireplaceQu','GarageType','GarageFinish','GarageCond','Fence']\n",
    "label_encode_cols = ['MasVnrType','BsmtQual','BsmtCond','BsmtExposure','BsmtFinType1','BsmtFinType2']\n",
    "reduced_X_train_obwith = reduced_X_train_obwith.drop(high_missing_cols, axis=1)\n",
    "reduced_X_test_obwith = reduced_X_test_obwith.drop(high_missing_cols, axis=1)"
   ]
  },
  {
   "cell_type": "code",
   "execution_count": 11,
   "metadata": {},
   "outputs": [],
   "source": [
    "#Filling missing values in columns to be label encoded\n",
    "for cols in label_encode_cols:\n",
    "    reduced_X_train_obwith[cols]=reduced_X_train_obwith[cols].fillna(\"dm\")\n",
    "    reduced_X_test_obwith[cols]=reduced_X_test_obwith[cols].fillna(\"dm\")"
   ]
  },
  {
   "cell_type": "code",
   "execution_count": 14,
   "metadata": {},
   "outputs": [],
   "source": [
    "#label_encode the columns\n",
    "en = LabelEncoder()\n",
    "for cols in reduced_X_train_obwith.columns:\n",
    "    reduced_X_train_obwith[cols] = en.fit_transform(reduced_X_train_obwith[cols])\n",
    "    reduced_X_test_obwith[cols] = en.transform(reduced_X_test_obwith[cols])"
   ]
  },
  {
   "cell_type": "code",
   "execution_count": 17,
   "metadata": {},
   "outputs": [],
   "source": [
    "#OH encoding the remaining columns\n",
    "reduced_cols = [cols for cols in reduced_X_train_obwith.columns]\n",
    "OH_encode_cols = list(set(reduced_cols)-set(label_encode_cols))\n",
    "OH_encoder = OneHotEncoder(handle_unknown='ignore',sparse=False)\n",
    "OH_cols_train = pd.DataFrame(OH_encoder.fit_transform(reduced_X_train_obwith[OH_encode_cols]))\n",
    "OH_cols_test = pd.DataFrame(OH_encoder.fit_transform(reduced_X_test_obwith[OH_encode_cols]))\n",
    "OH_cols_train.index = reduced_X_train_obwith.index\n",
    "OH_cols_test.index = reduced_X_test_obwith.index"
   ]
  },
  {
   "cell_type": "code",
   "execution_count": 18,
   "metadata": {},
   "outputs": [],
   "source": [
    "#removing the OH_encoded cols and making final obwith dataset\n",
    "left_X_train_obwith = reduced_X_train_obwith.drop(OH_encode_cols,axis=1)\n",
    "left_X_test_obwith = reduced_X_test_obwith.drop(OH_encode_cols,axis=1)\n",
    "final_X_train_obwith = pd.concat([left_X_train_obwith,OH_cols_train],axis=1)\n",
    "final_X_test_obwith = pd.concat([left_X_test_obwith,OH_cols_test],axis=1)"
   ]
  },
  {
   "cell_type": "code",
   "execution_count": 19,
   "metadata": {},
   "outputs": [],
   "source": [
    "#joining obwith with obless\n",
    "final_X_train_obwith = final_X_train_obwith.reset_index()\n",
    "final_X_test_obwith = final_X_test_obwith.reset_index()\n",
    "final_X_train = pd.concat([imputed_X_train,final_X_train_obwith],axis=1)\n",
    "final_X_test = pd.concat([imputed_X_test,final_X_test_obwith],axis=1)"
   ]
  },
  {
   "cell_type": "code",
   "execution_count": 20,
   "metadata": {},
   "outputs": [],
   "source": [
    "#selecting model\n",
    "model = RandomForestRegressor(n_estimators=100, random_state=0)\n",
    "model.fit(final_X_train, y)\n",
    "preds_test = model.predict(final_X_test)"
   ]
  },
  {
   "cell_type": "code",
   "execution_count": 21,
   "metadata": {},
   "outputs": [],
   "source": [
    "#Save test predictions to file\n",
    "output = pd.DataFrame({'Id': X_test.index,\n",
    "                       'SalePrice': preds_test})\n",
    "output.to_csv('submission.csv', index=False)"
   ]
  },
  {
   "cell_type": "code",
   "execution_count": null,
   "metadata": {},
   "outputs": [],
   "source": []
  }
 ],
 "metadata": {
  "kernelspec": {
   "display_name": "Python 3",
   "language": "python",
   "name": "python3"
  },
  "language_info": {
   "codemirror_mode": {
    "name": "ipython",
    "version": 3
   },
   "file_extension": ".py",
   "mimetype": "text/x-python",
   "name": "python",
   "nbconvert_exporter": "python",
   "pygments_lexer": "ipython3",
   "version": "3.7.6"
  }
 },
 "nbformat": 4,
 "nbformat_minor": 4
}
